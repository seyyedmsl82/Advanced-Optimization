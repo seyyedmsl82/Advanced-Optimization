{
  "cells": [
    {
      "cell_type": "code",
      "execution_count": 1,
      "metadata": {
        "id": "tq44oN4tqg_I"
      },
      "outputs": [],
      "source": [
        "import numpy as np\n",
        "from sklearn.datasets import fetch_openml\n",
        "from sklearn.preprocessing import StandardScaler\n",
        "from sklearn.model_selection import train_test_split\n",
        "import matplotlib.pyplot as plt\n",
        "\n",
        "mnist = fetch_openml('mnist_784', version=1)\n",
        "X, y = mnist['data'], mnist['target']\n",
        "\n",
        "mask = (y == '0') | (y == '1')\n",
        "X, y = X[mask], y[mask].astype(int).to_numpy()\n",
        "\n",
        "scaler = StandardScaler()\n",
        "X = scaler.fit_transform(X)\n"
      ]
    },
    {
      "cell_type": "code",
      "execution_count": 2,
      "metadata": {
        "id": "lC2QtRXxvBbg"
      },
      "outputs": [],
      "source": [
        "X = np.hstack((X, np.ones((X.shape[0], 1))*0.1))\n",
        "\n",
        "X_train, X_test, y_train, y_test = train_test_split(X, y, test_size=0.2, random_state=42)\n",
        "\n",
        "X_train = np.hstack((X_train, np.ones((X_train.shape[0], 1)) * 0.1))\n",
        "X_test = np.hstack((X_test, np.ones((X_test.shape[0], 1)) * 0.1))\n",
        "\n",
        "m, n = X_train.shape  # m: number of samples, n: features (including bias term)\n",
        "C = 1.0\n",
        "\n",
        "w = np.zeros(n)\n",
        "xi = np.ones(m)\n",
        "\n",
        "epsilon = 200\n",
        "mu = 0.1\n",
        "tol = 1e-5\n"
      ]
    },
    {
      "cell_type": "code",
      "execution_count": 3,
      "metadata": {
        "id": "XsdPDbPATIgi"
      },
      "outputs": [],
      "source": [
        "# Barrier objective function\n",
        "def barrier_objective(w, xi, epsilon):\n",
        "    hinge_losses = -1 + y_train * (X_train @ w)\n",
        "    hinge_losses = np.maximum(hinge_losses, 1e-6)\n",
        "    xi = np.maximum(xi, 1e-6)\n",
        "    barrier_term = -epsilon * (np.sum(np.log(xi)) + np.sum(np.log(hinge_losses)))\n",
        "    objective = 0.5 * np.linalg.norm(w[:-1])**2 + C * np.sum(xi) + barrier_term\n",
        "    return objective\n",
        "\n",
        "# Barrier gradient calculation\n",
        "def barrier_gradient(w, xi, epsilon):\n",
        "    hinge_losses = 1 - y_train * (X_train @ w) + xi\n",
        "    grad_w = w.copy()\n",
        "    grad_xi = C - epsilon / (xi + 1e-5)\n",
        "\n",
        "    active_set = (hinge_losses > 0)\n",
        "    for i in range(m):\n",
        "        if active_set[i]:\n",
        "            grad_w -= (epsilon / hinge_losses[i]) * y_train[i] * X_train[i, :]\n",
        "            grad_xi[i] += 1 - epsilon / hinge_losses[i]\n",
        "\n",
        "    return grad_w, grad_xi\n",
        "\n",
        "# Newton's method for updates\n",
        "def newton_step(w, xi, epsilon):\n",
        "    grad_w, grad_xi = barrier_gradient(w, xi, epsilon)\n",
        "    step_w = -grad_w\n",
        "    step_xi = -grad_xi\n",
        "\n",
        "    # Line search to ensure positivity of xi\n",
        "    alpha = 1.0\n",
        "    while np.any(xi + alpha * step_xi <= 0):\n",
        "        alpha *= 0.5\n",
        "\n",
        "    w += alpha * step_w\n",
        "    xi += alpha * step_xi\n",
        "    return w, xi\n"
      ]
    },
    {
      "cell_type": "code",
      "execution_count": 4,
      "metadata": {
        "id": "lHNDcEE9u5Mo"
      },
      "outputs": [],
      "source": [
        "# Optimization loop\n",
        "iteration = 0\n",
        "cost_values = []\n",
        "while epsilon > tol:\n",
        "    iteration += 1\n",
        "\n",
        "    # Newton step\n",
        "    w, xi = newton_step(w, xi, epsilon)\n",
        "    cost_values.append(barrier_objective(w, xi, epsilon))\n",
        "\n",
        "    # Update epsilon every 5 steps\n",
        "    if iteration % 5 == 0:\n",
        "        epsilon *= mu\n"
      ]
    },
    {
      "cell_type": "code",
      "execution_count": 5,
      "metadata": {
        "colab": {
          "base_uri": "https://localhost:8080/",
          "height": 489
        },
        "id": "zTrplPQOu74-",
        "outputId": "4482a0e1-8020-43d8-943e-ee3a44547767"
      },
      "outputs": [
        {
          "data": {
            "image/png": "[encoded data removed]",
            "text/plain": [
              "<Figure size 640x480 with 1 Axes>"
            ]
          },
          "metadata": {},
          "output_type": "display_data"
        },
        {
          "name": "stdout",
          "output_type": "stream",
          "text": [
            "Test accuracy: 99.36%\n"
          ]
        }
      ],
      "source": [
        "# Plot cost function over iterations\n",
        "plt.plot(cost_values)\n",
        "plt.xlabel('Iteration')\n",
        "plt.ylabel('Cost Function Value')\n",
        "plt.title('Cost Function Value Per Iteration')\n",
        "plt.show()\n",
        "\n",
        "# Classification and accuracy on test data\n",
        "predictions = np.sign(X_test @ w)\n",
        "predictions = (predictions + 1) // 2\n",
        "accuracy = np.mean(predictions == y_test)\n",
        "\n",
        "print(f\"Test accuracy: {accuracy * 100:.2f}%\")\n"
      ]
    },
    {
      "cell_type": "code",
      "execution_count": 5,
      "metadata": {
        "id": "uyoWbRDJliI0"
      },
      "outputs": [],
      "source": []
    }
  ],
  "metadata": {
    "colab": {
      "provenance": []
    },
    "kernelspec": {
      "display_name": "Python 3",
      "name": "python3"
    },
    "language_info": {
      "name": "python"
    }
  },
  "nbformat": 4,
  "nbformat_minor": 0
}
